{
  "nbformat": 4,
  "nbformat_minor": 0,
  "metadata": {
    "colab": {
      "provenance": [],
      "gpuType": "T4",
      "include_colab_link": true
    },
    "kernelspec": {
      "name": "python3",
      "display_name": "Python 3"
    },
    "language_info": {
      "name": "python"
    },
    "accelerator": "GPU"
  },
  "cells": [
    {
      "cell_type": "markdown",
      "metadata": {
        "id": "view-in-github",
        "colab_type": "text"
      },
      "source": [
        "<a href=\"https://colab.research.google.com/github/sarthak-thakare/WIDS-2024/blob/main/Copy_of_AI_phabet_EMNIST_Model.ipynb\" target=\"_parent\"><img src=\"https://colab.research.google.com/assets/colab-badge.svg\" alt=\"Open In Colab\"/></a>"
      ]
    },
    {
      "cell_type": "markdown",
      "source": [
        "# Import required libraries"
      ],
      "metadata": {
        "id": "rlp_43xNt0n8"
      }
    },
    {
      "cell_type": "code",
      "execution_count": 3,
      "metadata": {
        "id": "Wl6AS97-tLdF"
      },
      "outputs": [],
      "source": [
        "import pandas as pd\n",
        "import numpy as np\n",
        "import matplotlib.pyplot as plt\n",
        "import numpy as np"
      ]
    },
    {
      "cell_type": "markdown",
      "source": [
        "# Loading the data"
      ],
      "metadata": {
        "id": "9kzc9NAFt9hU"
      }
    },
    {
      "cell_type": "markdown",
      "source": [
        "### It is recommended to upload the zipped EMNIST dataset to your Google Drive.\n",
        "\n",
        "### Then, mount Google Drive and import the dataset (by executing the following code)."
      ],
      "metadata": {
        "id": "UToynQZluKyX"
      }
    },
    {
      "cell_type": "code",
      "source": [
        "# Mount drive\n",
        "from google.colab import drive\n",
        "drive.mount('/content/drive')"
      ],
      "metadata": {
        "id": "jMxIsJ85twQ4",
        "colab": {
          "base_uri": "https://localhost:8080/"
        },
        "outputId": "83b73154-b608-404a-89dd-dca64852601b"
      },
      "execution_count": 4,
      "outputs": [
        {
          "output_type": "stream",
          "name": "stdout",
          "text": [
            "Drive already mounted at /content/drive; to attempt to forcibly remount, call drive.mount(\"/content/drive\", force_remount=True).\n"
          ]
        }
      ]
    },
    {
      "cell_type": "code",
      "source": [
        "# Unzipping .zip dataset file from drive to /content folder of your colab notebook\n",
        "\n",
        "import shutil\n",
        "import zipfile\n",
        "\n",
        "zip_file_path = '/content/drive/MyDrive/A_Z Handwritten Data.zip' # Change as per your dataset file path in drive\n",
        "extracted_dir = '/content'\n",
        "\n",
        "import os\n",
        "os.makedirs(extracted_dir, exist_ok=True)\n",
        "\n",
        "with zipfile.ZipFile(zip_file_path, 'r') as zip_ref:\n",
        "    zip_ref.extractall(extracted_dir)\n"
      ],
      "metadata": {
        "id": "jH-JPHVYu4qq"
      },
      "execution_count": 5,
      "outputs": []
    },
    {
      "cell_type": "code",
      "source": [
        "data = pd.read_csv('A_Z Handwritten Data.csv')\n",
        "\n",
        "# Display this dataset\n",
        "# It's first column contains all the labels (o to 25 for A to Z) and the remaining 784 columns contain pixel values.\n",
        "# Seperate them accordingly as X (for pixel values) and Y (for labels)\n",
        "# Convert these to numpy arrays\n",
        "# Normalize the X array (X/255), normalizing by 255 scales pixel values to a range between 0 and 1, promoting numerical stability, consistent scale across features, and optimizing the sensitivity of activation functions during neural network training.\n",
        "# As you can see, this dataset is sorted from A to Z, it needs to be shuffled before it can be used for training\n",
        "# Shuffle the dataset\n",
        "# Create training and validation sets\n",
        "\n",
        "\n",
        "print(data.head())\n",
        "\n",
        "\n",
        "X = data.drop('0', axis=1).values\n",
        "Y = data['0'].values\n",
        "\n",
        "\n",
        "X = X / 255.0\n",
        "\n",
        "# Shuffle the dataset by randomly reordering the data\n",
        "indices = np.random.permutation(X.shape[0])\n",
        "X_shuffled = X[indices]\n",
        "Y_shuffled = Y[indices]\n",
        "\n",
        "train_size = int(0.8 * X_shuffled.shape[0])\n",
        "X_train, X_val = X_shuffled[20:train_size], X_shuffled[train_size:]\n",
        "Y_train, Y_val = Y_shuffled[20:train_size], Y_shuffled[train_size:]\n",
        "X_test,Y_test=X_shuffled[:20],Y_shuffled[:20]\n",
        "\n",
        "# Optionally, you can print out the shape of the datasets to check\n",
        "print(f'Training set shape: {X_train.shape}')\n",
        "print(f'Validation set shape: {X_val.shape}')\n"
      ],
      "metadata": {
        "id": "g-iw2rT06PyA",
        "colab": {
          "base_uri": "https://localhost:8080/"
        },
        "outputId": "91bcb270-0a0a-4e97-d98e-c20563f9e5cb"
      },
      "execution_count": 6,
      "outputs": [
        {
          "output_type": "stream",
          "name": "stdout",
          "text": [
            "   0  0.1  0.2  0.3  0.4  0.5  0.6  0.7  0.8  0.9  ...  0.639  0.640  0.641  \\\n",
            "0  0    0    0    0    0    0    0    0    0    0  ...      0      0      0   \n",
            "1  0    0    0    0    0    0    0    0    0    0  ...      0      0      0   \n",
            "2  0    0    0    0    0    0    0    0    0    0  ...      0      0      0   \n",
            "3  0    0    0    0    0    0    0    0    0    0  ...      0      0      0   \n",
            "4  0    0    0    0    0    0    0    0    0    0  ...      0      0      0   \n",
            "\n",
            "   0.642  0.643  0.644  0.645  0.646  0.647  0.648  \n",
            "0      0      0      0      0      0      0      0  \n",
            "1      0      0      0      0      0      0      0  \n",
            "2      0      0      0      0      0      0      0  \n",
            "3      0      0      0      0      0      0      0  \n",
            "4      0      0      0      0      0      0      0  \n",
            "\n",
            "[5 rows x 785 columns]\n",
            "Training set shape: (297940, 784)\n",
            "Validation set shape: (74490, 784)\n"
          ]
        }
      ]
    },
    {
      "cell_type": "code",
      "source": [
        "# Display a single training set sample along with its label using matplot heatmap\n",
        "\n",
        "import matplotlib.pyplot as plt\n",
        "import numpy as np\n",
        "\n",
        "\n",
        "sample_index = 0\n",
        "sample_image = X_train[sample_index].reshape(28, 28)\n",
        "\n",
        "label = Y_train[sample_index]\n",
        "label_char = chr(label + 65)\n",
        "\n",
        "# Display the image using a heatmap\n",
        "plt.imshow(sample_image, cmap='hot', interpolation='nearest')\n",
        "plt.title(f'Label: {label_char}')\n",
        "plt.colorbar()\n",
        "plt.show()\n"
      ],
      "metadata": {
        "id": "8cCRHf_46bbD",
        "colab": {
          "base_uri": "https://localhost:8080/",
          "height": 452
        },
        "outputId": "2af2e1d0-7eb8-4962-8da2-0514ec1853d8"
      },
      "execution_count": 7,
      "outputs": [
        {
          "output_type": "display_data",
          "data": {
            "text/plain": [
              "<Figure size 640x480 with 2 Axes>"
            ],
            "image/png": "[encoded data removed]"
          },
          "metadata": {}
        }
      ]
    },
    {
      "cell_type": "markdown",
      "source": [
        "# Model"
      ],
      "metadata": {
        "id": "C8gWq38691oL"
      }
    },
    {
      "cell_type": "code",
      "source": [
        "# You can copy-paste your MNIST model and make necessary changes to train the model on EMNIST\n",
        "# Changes would include : Shapes of weight matrices, no. of output nodes and return vector of one_hot function\n",
        "# Note that you might need to increase number of nodes in the hidden layers too to accomodate for the additional output information compared to MNIST\n",
        "# Experiment with these numbers and find the optimal number of nodes for each layer\n",
        "\n",
        "import numpy as np\n",
        "import matplotlib.pyplot as plt\n",
        "\n",
        "# We'll be making a model with 2 hidden layers with sigmoid activations\n",
        "\n",
        "i = 784  # Input size (no. of pixels = 28*28 = 784)\n",
        "h1 = 64\n",
        "h2 = 64\n",
        "o = 26  # Output size (26 characters A-Z)\n",
        "lr = 0.01  # Learning rate\n",
        "epochs = 10  # Number of epochs\n",
        "\n",
        "# Initialize the weights and biases\n",
        "W1 = np.random.randn(i, h1) * 0.01\n",
        "W2 = np.random.randn(h1, h2) * 0.01\n",
        "W3 = np.random.randn(h2, o) * 0.01\n",
        "\n",
        "# Initialize b1 b2 b3\n",
        "b1 = np.zeros((1, h1))\n",
        "b2 = np.zeros((1, h2))\n",
        "b3 = np.zeros((1, o))\n",
        "\n",
        "# Defining Activation Functions\n",
        "def sigmoid(z):\n",
        "    return 1 / (1 + np.exp(-z))\n",
        "\n",
        "def sigmoidprime(z):\n",
        "    return np.exp(-z) * (1 / ((1 + np.exp(-z)) ** 2))\n",
        "\n",
        "# One-hot encoding function\n",
        "def one_hot(y):\n",
        "    vec = np.zeros(o)\n",
        "    vec[y] = 1\n",
        "    return vec\n",
        "\n",
        "# Training Loop\n",
        "cost_list = []\n",
        "count = 0\n",
        "\n",
        "for ep in range(epochs):\n",
        "    for i in range(len(X_train)):\n",
        "        # Forward Propagation\n",
        "        z1 = np.dot(X_train[i].reshape(1, -1), W1) + b1\n",
        "        a1 = sigmoid(z1)\n",
        "        z2 = np.dot(a1, W2) + b2\n",
        "        a2 = sigmoid(z2)\n",
        "        z3 = np.dot(a2, W3) + b3\n",
        "        y_predicted = sigmoid(z3)\n",
        "\n",
        "        # Convert the label to one-hot encoded vector\n",
        "        hot_correct_vector = one_hot(Y_train[i])\n",
        "\n",
        "        # Calculate the loss\n",
        "        loss = np.sum((hot_correct_vector - y_predicted) ** 2)\n",
        "\n",
        "        count += 1\n",
        "        if count % 200 == 0:\n",
        "            cost_list.append(loss)\n",
        "\n",
        "        # Backpropagation\n",
        "        dz3 = y_predicted - hot_correct_vector\n",
        "        dw3 = np.dot(a2.T, dz3)\n",
        "        db3 = dz3\n",
        "\n",
        "        da2 = np.dot(dz3, W3.T)\n",
        "        dz2 = da2 * sigmoidprime(z2)\n",
        "        dw2 = np.dot(a1.T, dz2)\n",
        "        db2 = dz2\n",
        "\n",
        "        da1 = np.dot(dz2, W2.T)\n",
        "        dz1 = da1 * sigmoidprime(z1)\n",
        "        dw1 = np.dot(X_train[i].reshape(1, -1).T, dz1)\n",
        "        db1 = dz1\n",
        "\n",
        "        # Update the weights and biases\n",
        "        W3 -= lr * dw3\n",
        "        W2 -= lr * dw2\n",
        "        W1 -= lr * dw1\n",
        "        b3 -= lr * db3\n",
        "        b2 -= lr * db2\n",
        "        b1 -= lr * db1\n",
        "\n",
        "    # Forward propagation for the validation set\n",
        "    correct_predictions = 0\n",
        "    new_cost_list = []\n",
        "    for j in range(len(X_val)):\n",
        "        z1_val = np.dot(X_val[j].reshape(1, -1), W1) + b1\n",
        "        a1_val = sigmoid(z1_val)\n",
        "        z2_val = np.dot(a1_val, W2) + b2\n",
        "        a2_val = sigmoid(z2_val)\n",
        "        z3_val = np.dot(a2_val, W3) + b3\n",
        "        y_predicted_val = sigmoid(z3_val)\n",
        "\n",
        "        new_loss = np.sum((one_hot(Y_val[j]) - y_predicted_val) ** 2)\n",
        "        new_cost_list.append(new_loss)\n",
        "        if np.argmax(y_predicted_val) == Y_val[j]:\n",
        "            correct_predictions += 1\n",
        "\n",
        "    accuracy = correct_predictions / len(X_val)\n",
        "    print(f\"Epoch {ep+1}/{epochs}, Loss: {np.mean(new_cost_list):.4f}, Accuracy: {accuracy:.2f}\")\n",
        "\n",
        "# Test accuracy\n",
        "correct_predictions = 0\n",
        "for i in range(len(X_test)):\n",
        "    z1_test = np.dot(X_test[i].reshape(1, -1), W1) + b1\n",
        "    a1_test = sigmoid(z1_test)\n",
        "    z2_test = np.dot(a1_test, W2) + b2\n",
        "    a2_test = sigmoid(z2_test)\n",
        "    z3_test = np.dot(a2_test, W3) + b3\n",
        "    y_predicted_test = sigmoid(z3_test)\n",
        "\n",
        "    if np.argmax(y_predicted_test) == Y_test[i]:\n",
        "        correct_predictions += 1\n",
        "\n",
        "test_accuracy = correct_predictions / len(X_test)\n",
        "print(f\"Test Accuracy: {test_accuracy:.2f}\")\n"
      ],
      "metadata": {
        "id": "FGmbTLy39zwX",
        "colab": {
          "base_uri": "https://localhost:8080/"
        },
        "outputId": "924a2f11-11e2-4a35-cc63-c0e17ec1346d"
      },
      "execution_count": 8,
      "outputs": [
        {
          "output_type": "stream",
          "name": "stdout",
          "text": [
            "Epoch 1/10, Loss: 0.1374, Accuracy: 0.92\n",
            "Epoch 2/10, Loss: 0.0919, Accuracy: 0.94\n",
            "Epoch 3/10, Loss: 0.0768, Accuracy: 0.95\n",
            "Epoch 4/10, Loss: 0.0691, Accuracy: 0.96\n",
            "Epoch 5/10, Loss: 0.0644, Accuracy: 0.96\n",
            "Epoch 6/10, Loss: 0.0617, Accuracy: 0.96\n",
            "Epoch 7/10, Loss: 0.0593, Accuracy: 0.96\n",
            "Epoch 8/10, Loss: 0.0576, Accuracy: 0.97\n",
            "Epoch 9/10, Loss: 0.0562, Accuracy: 0.97\n",
            "Epoch 10/10, Loss: 0.0551, Accuracy: 0.97\n",
            "Test Accuracy: 0.95\n"
          ]
        }
      ]
    },
    {
      "cell_type": "markdown",
      "source": [
        "# Testing the model"
      ],
      "metadata": {
        "id": "VCk3Zp89_f8Q"
      }
    },
    {
      "cell_type": "code",
      "source": [
        "\n",
        "def classify(image):\n",
        "\n",
        "    z1 = np.dot(image.reshape(1, -1), W1) + b1\n",
        "    a1 = sigmoid(z1)\n",
        "    z2 = np.dot(a1, W2) + b2\n",
        "    a2 = sigmoid(z2)\n",
        "    z3 = np.dot(a2, W3) + b3\n",
        "    y_predicted = sigmoid(z3)\n",
        "\n",
        "\n",
        "    return np.argmax(y_predicted)\n",
        "\n"
      ],
      "metadata": {
        "id": "KPzOfcqi-jg3"
      },
      "execution_count": 9,
      "outputs": []
    },
    {
      "cell_type": "code",
      "source": [
        "\n",
        "\n",
        "import matplotlib.pyplot as plt\n",
        "\n",
        "index=np.random.randint(0,20)\n",
        "image = X_test[index]\n",
        "actual_image=Y_test[index]\n",
        "\n",
        "print(image.shape)\n",
        "\n",
        "plt.imshow(image.reshape(28, 28), cmap='gray')\n",
        "plt.show()\n",
        "\n",
        "# Use the classify function to predict the label for this image\n",
        "predicted_class = classify(image)\n",
        "\n",
        "# Display the model's predicted output\n",
        "print(f\"Actual Class:  {chr(65+actual_image)}      Predicted Class: {chr(65+predicted_class)}\")\n",
        "\n"
      ],
      "metadata": {
        "id": "krBoNw5k_uNn",
        "colab": {
          "base_uri": "https://localhost:8080/",
          "height": 465
        },
        "outputId": "5489c33c-a4a4-429f-83b6-38d347344304"
      },
      "execution_count": 20,
      "outputs": [
        {
          "output_type": "stream",
          "name": "stdout",
          "text": [
            "(784,)\n"
          ]
        },
        {
          "output_type": "display_data",
          "data": {
            "text/plain": [
              "<Figure size 640x480 with 1 Axes>"
            ],
            "image/png": "[encoded data removed]"
          },
          "metadata": {}
        },
        {
          "output_type": "stream",
          "name": "stdout",
          "text": [
            "Actual Class:  V      Predicted Class: V\n"
          ]
        }
      ]
    },
    {
      "cell_type": "code",
      "source": [
        "# Use np.save function to export the numpy arrays (Weights and bias matrices) after training and achieving a good accuracy\n",
        "\n",
        "np.save('W1.npy', W1)\n",
        "np.save('W2.npy', W2)\n",
        "np.save('W3.npy', W3)\n",
        "np.save('b1.npy', b1)\n",
        "np.save('b2.npy', b2)\n",
        "np.save('b3.npy', b3)\n",
        "\n",
        "\n",
        "print(\"Weights and biases saved successfully!\")"
      ],
      "metadata": {
        "id": "uOYG_aVF_xQC",
        "colab": {
          "base_uri": "https://localhost:8080/"
        },
        "outputId": "4977976f-9909-4c78-dc13-a62ca69e3473"
      },
      "execution_count": 18,
      "outputs": [
        {
          "output_type": "stream",
          "name": "stdout",
          "text": [
            "Weights and biases saved successfully!\n"
          ]
        }
      ]
    }
  ]
}